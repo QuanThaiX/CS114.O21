{
 "cells": [
  {
   "cell_type": "markdown",
   "metadata": {},
   "source": [
    "![](.\\problem\\Ex4_1.png)"
   ]
  },
  {
   "cell_type": "code",
   "execution_count": null,
   "metadata": {},
   "outputs": [],
   "source": [
    "import sys\n",
    "import heapq\n",
    "\n",
    "n, m = list(map(int, sys.stdin.readline().strip().split()))\n",
    "max_heap = list()\n",
    "count = dict()\n",
    "for x in range(n):\n",
    "    n = int(sys.stdin.readline().strip())\n",
    "    if -n in count:\n",
    "        count[-n] += 1\n",
    "    else:\n",
    "        count[-n] = 1\n",
    "        heapq.heappush(max_heap, -n)\n",
    "for x in range(m):\n",
    "    inp = list(sys.stdin.readline().strip().split())\n",
    "    if inp[0] == \"-1\":\n",
    "        if count[max_heap[0]] == 1:\n",
    "            count.pop(max_heap[0])\n",
    "            heapq.heappop(max_heap)\n",
    "        else:\n",
    "            count[max_heap[0]] -= 1\n",
    "    elif inp[0] == \"-2\":\n",
    "        count.pop(max_heap[0])\n",
    "        heapq.heappop(max_heap)\n",
    "    elif inp[0] == \"-3\":\n",
    "        if count[max_heap[0]] == 1:\n",
    "            count.pop(max_heap[0])\n",
    "            max_heap[0] += int(inp[1])\n",
    "            if max_heap[0] in count:\n",
    "                count[max_heap[0]] += 1\n",
    "                heapq.heappop(max_heap)\n",
    "            else:\n",
    "                count[max_heap[0]] = 1\n",
    "                i = 0\n",
    "                while True:\n",
    "                    left = 2 * i + 1\n",
    "                    right = 2 * i + 2\n",
    "                    if left < len(max_heap) and right < len(max_heap):\n",
    "                        if max_heap[left] < max_heap[right] and max_heap[i] > max_heap[left]:\n",
    "                            max_heap[i], max_heap[left] = max_heap[left], max_heap[i]\n",
    "                            i = left\n",
    "                        elif max_heap[i] > max_heap[right]:\n",
    "                            max_heap[i], max_heap[right] = max_heap[right], max_heap[i]\n",
    "                            i = right\n",
    "                        else:\n",
    "                            break\n",
    "                    elif left < len(max_heap) and max_heap[i] > max_heap[left]:\n",
    "                        max_heap[i], max_heap[left] = max_heap[left], max_heap[i]\n",
    "                        i = left\n",
    "\n",
    "                    elif right < len(max_heap) and max_heap[i] > max_heap[right]:\n",
    "                        max_heap[i], max_heap[right] = max_heap[right], max_heap[i]\n",
    "                        i = right\n",
    "                    else:\n",
    "                        break\n",
    "        else:\n",
    "            count[max_heap[0]] -= 1\n",
    "            t = max_heap[0] + int(inp[1])\n",
    "            if t in count:\n",
    "                count[t] += 1\n",
    "            else:\n",
    "                count[t] = 1\n",
    "                heapq.heappush(max_heap, t)\n",
    "    elif inp[0] == \"-4\":\n",
    "        t = max_heap[0]\n",
    "        max_heap[0] += int(inp[1])\n",
    "        if max_heap[0] in count:\n",
    "            count[max_heap[0]] += count[t]\n",
    "            heapq.heappop(max_heap)\n",
    "        else:\n",
    "            count[max_heap[0]] = count[t]\n",
    "        count.pop(t)\n",
    "        i = 0\n",
    "        while True:\n",
    "            left = 2 * i + 1\n",
    "            right = 2 * i + 2\n",
    "            if left < len(max_heap) and right < len(max_heap):\n",
    "                if max_heap[left] < max_heap[right] and max_heap[i] > max_heap[left]:\n",
    "                    max_heap[i], max_heap[left] = max_heap[left], max_heap[i]\n",
    "                    i = left\n",
    "                elif max_heap[i] > max_heap[right]:\n",
    "                    max_heap[i], max_heap[right] = max_heap[right], max_heap[i]\n",
    "                    i = right\n",
    "                else:\n",
    "                    break\n",
    "            elif left < len(max_heap) and max_heap[i] > max_heap[left]:\n",
    "                max_heap[i], max_heap[left] = max_heap[left], max_heap[i]\n",
    "                i = left\n",
    "\n",
    "            elif right < len(max_heap) and max_heap[i] > max_heap[right]:\n",
    "                max_heap[i], max_heap[right] = max_heap[right], max_heap[i]\n",
    "                i = right\n",
    "            else:\n",
    "                break\n",
    "    if len(max_heap) == 0:\n",
    "        break\n",
    "for i in range(len(max_heap)):\n",
    "    t = heapq.heappop(max_heap)\n",
    "    for x in range(count[t]):\n",
    "        print(-t)"
   ]
  },
  {
   "cell_type": "markdown",
   "metadata": {},
   "source": [
    "![](.\\problem\\Ex4_2.png)"
   ]
  },
  {
   "cell_type": "markdown",
   "metadata": {},
   "source": [
    "![](.\\problem\\Ex4_3.png)"
   ]
  },
  {
   "cell_type": "markdown",
   "metadata": {},
   "source": [
    "![](.\\problem\\Ex4_4.png)"
   ]
  }
 ],
 "metadata": {
  "kernelspec": {
   "display_name": "Python 3",
   "language": "python",
   "name": "python3"
  },
  "language_info": {
   "name": "python",
   "version": "3.11.9"
  }
 },
 "nbformat": 4,
 "nbformat_minor": 2
}
