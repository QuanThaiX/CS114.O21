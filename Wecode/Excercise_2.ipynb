{
 "cells": [
  {
   "cell_type": "markdown",
   "metadata": {},
   "source": [
    "![](.\\problem\\Ex2_1.png)"
   ]
  },
  {
   "cell_type": "code",
   "execution_count": null,
   "metadata": {},
   "outputs": [],
   "source": [
    "import sys\n",
    "\n",
    "rows, cols = list(map(int, sys.stdin.readline().strip().split()))\n",
    "matrix = [list(map(int, sys.stdin.readline().strip().split())) for _ in range(rows)]\n",
    "layer_index = 0\n",
    "num_layers = min(rows, cols) // 2\n",
    "while layer_index < num_layers:\n",
    "    current_layer = []\n",
    "    for col in range(layer_index, cols - layer_index):\n",
    "        current_layer.append(matrix[layer_index][col])\n",
    "    for row in range(layer_index + 1, rows - layer_index - 1):\n",
    "        current_layer.append(matrix[row][cols - layer_index - 1])\n",
    "    for col in range(cols - layer_index - 1, layer_index - 1, -1):\n",
    "        current_layer.append(matrix[rows - layer_index - 1][col])\n",
    "    for row in range(rows - layer_index - 2, layer_index, -1):\n",
    "        current_layer.append(matrix[row][layer_index])\n",
    "    if layer_index % 2 == 0:\n",
    "        current_layer.insert(0, current_layer.pop())\n",
    "    else:\n",
    "        current_layer.append(current_layer.pop(0))\n",
    "    for col in range(layer_index, cols - layer_index):\n",
    "        matrix[layer_index][col] = current_layer.pop(0)\n",
    "    for row in range(layer_index + 1, rows - layer_index - 1):\n",
    "        matrix[row][cols - layer_index - 1] = current_layer.pop(0)\n",
    "    for col in range(cols - layer_index - 1, layer_index - 1, -1):\n",
    "        matrix[rows - layer_index - 1][col] = current_layer.pop(0)\n",
    "    for row in range(rows - layer_index - 2, layer_index, -1):\n",
    "        matrix[row][layer_index] = current_layer.pop(0)\n",
    "    layer_index += 1\n",
    "for row in range(rows):\n",
    "    for col in range(cols - 1):\n",
    "        print(matrix[row][col], end=\" \")\n",
    "    print(matrix[row][cols - 1])"
   ]
  },
  {
   "cell_type": "markdown",
   "metadata": {},
   "source": [
    "![](.\\problem\\Ex2_2.png)"
   ]
  },
  {
   "cell_type": "code",
   "execution_count": null,
   "metadata": {},
   "outputs": [],
   "source": [
    "R, C = list(map(int,input().split()))\n",
    "arr = list()\n",
    "for i in range(R):\n",
    "    i = list(map(int, input().split()))\n",
    "    arr.append(i)\n",
    "na = arr[::-1]\n",
    "for i in range(len(na)):\n",
    "    for x in range(len(na[i])-1):\n",
    "        print(na[i][x], end=\" \")\n",
    "    print(na[i][len(na[i])-1])"
   ]
  },
  {
   "cell_type": "markdown",
   "metadata": {},
   "source": [
    "![](.\\problem\\Ex2_3.png)"
   ]
  },
  {
   "cell_type": "code",
   "execution_count": null,
   "metadata": {},
   "outputs": [],
   "source": [
    "R, C = map(int, input().strip().split())\n",
    "l = [input().strip().split() for _ in range(R)]\n",
    "lec = [max(len(r[c]) for r in l) for c in range(C)]\n",
    "for r in l:\n",
    "    print(\" \".join(\"{:>{}}\".format(n, lec[i]) for i, n in enumerate(r)))"
   ]
  },
  {
   "cell_type": "markdown",
   "metadata": {},
   "source": [
    "![](.\\problem\\Ex2_4.png)"
   ]
  },
  {
   "cell_type": "code",
   "execution_count": null,
   "metadata": {},
   "outputs": [],
   "source": [
    "import sys\n",
    "\n",
    "boundary_length = 0\n",
    "\n",
    "def find_first_splattered_tile(grid):\n",
    "    for row in range(len(grid)):\n",
    "        for col in range(len(grid[row])):\n",
    "            if grid[row][col] == 1:\n",
    "                return row, col\n",
    "    return -1, -1\n",
    "\n",
    "def dfs(row, col, grid, visited):\n",
    "    global boundary_length\n",
    "    visited[row][col] = True\n",
    "    if grid[row][col] == 1:\n",
    "        boundary_length += 4\n",
    "    if grid[row - 1][col] == 1:\n",
    "        boundary_length -= 1\n",
    "        if not visited[row - 1][col]:\n",
    "            dfs(row - 1, col, grid, visited)\n",
    "    if grid[row + 1][col] == 1:\n",
    "        boundary_length -= 1\n",
    "        if not visited[row + 1][col]:\n",
    "            dfs(row + 1, col, grid, visited)\n",
    "    if grid[row][col - 1] == 1:\n",
    "        boundary_length -= 1\n",
    "        if not visited[row][col - 1]:\n",
    "            dfs(row, col - 1, grid, visited)\n",
    "    if grid[row][col + 1] == 1:\n",
    "        boundary_length -= 1\n",
    "        if not visited[row][col + 1]:\n",
    "            dfs(row, col + 1, grid, visited)\n",
    "    return visited\n",
    "\n",
    "num_rows, num_cols = list(map(int, sys.stdin.readline().strip().split()))\n",
    "grid = []\n",
    "zero_row = [0] * (num_cols + 2)\n",
    "grid.append(zero_row)\n",
    "for i in range(num_rows):\n",
    "    grid.append([0] + list(map(int, sys.stdin.readline().strip().split())) + [0])\n",
    "grid.append(zero_row)\n",
    "visited = []\n",
    "for i in range(num_rows + 2):\n",
    "    visited.append([False] * (num_cols + 2))\n",
    "start_row, start_col = find_first_splattered_tile(grid)\n",
    "while start_row != -1 and start_col != -1 and not visited[start_row][start_col]:\n",
    "    visited = dfs(start_row, start_col, grid, visited)\n",
    "    start_row, start_col = find_first_splattered_tile(grid)\n",
    "print(boundary_length)"
   ]
  },
  {
   "cell_type": "markdown",
   "metadata": {},
   "source": [
    "![](.\\problem\\Ex2_5.png)"
   ]
  },
  {
   "cell_type": "code",
   "execution_count": null,
   "metadata": {},
   "outputs": [],
   "source": [
    "import sys\n",
    "\n",
    "def find_star(grid, start_row):\n",
    "    for row in range(start_row, len(grid)):\n",
    "        for col in range(len(grid[row])):\n",
    "            if grid[row][col] == '-':\n",
    "                return row, col\n",
    "    return -1, -1\n",
    "\n",
    "def is_valid_position(position, grid):\n",
    "    row, col = position\n",
    "    if 0 <= row < len(grid) and 0 <= col < len(grid[0]):\n",
    "        if grid[row][col] == \"-\":\n",
    "            return True\n",
    "    return False\n",
    "\n",
    "def dfs_remove_star(row, col, grid):\n",
    "    grid[row][col] = \"#\"\n",
    "    left = (row - 1, col)\n",
    "    right = (row + 1, col)\n",
    "    up = (row, col + 1)\n",
    "    down = (row, col - 1)\n",
    "    if is_valid_position(left, grid):\n",
    "        dfs_remove_star(left[0], left[1], grid)\n",
    "    if is_valid_position(right, grid):\n",
    "        dfs_remove_star(right[0], right[1], grid)\n",
    "    if is_valid_position(up, grid):\n",
    "        dfs_remove_star(up[0], up[1], grid)\n",
    "    if is_valid_position(down, grid):\n",
    "        dfs_remove_star(down[0], down[1], grid)\n",
    "\n",
    "case_number = 1\n",
    "while True:\n",
    "    star_count = 0\n",
    "    rows, cols = list(map(int, sys.stdin.readline().strip().split()))\n",
    "    grid = []\n",
    "    for _ in range(rows):\n",
    "        line = list(sys.stdin.readline().strip())\n",
    "        grid.append(line)\n",
    "    \n",
    "    start_row, start_col = find_star(grid, 0)\n",
    "\n",
    "    while start_row != -1 and start_col != -1:\n",
    "        dfs_remove_star(start_row, start_col, grid)\n",
    "        star_count += 1\n",
    "        start_row, start_col = find_star(grid, start_row)\n",
    "    \n",
    "    print(f\"Case {case_number}: {star_count}\")\n",
    "    case_number += 1\n",
    "    if case_number > 8:\n",
    "        break"
   ]
  },
  {
   "cell_type": "markdown",
   "metadata": {},
   "source": [
    "![](.\\problem\\Ex2_6.png)"
   ]
  },
  {
   "cell_type": "code",
   "execution_count": null,
   "metadata": {},
   "outputs": [],
   "source": [
    "n = int(input())\n",
    "l = []\n",
    "for i in range(n):\n",
    "    l.append(int(input()))\n",
    "print(max(l)-min(l)-n+1)"
   ]
  },
  {
   "cell_type": "markdown",
   "metadata": {},
   "source": [
    "![](.\\problem\\Ex2_7.png)"
   ]
  },
  {
   "cell_type": "code",
   "execution_count": null,
   "metadata": {},
   "outputs": [],
   "source": [
    "import sys\n",
    "\n",
    "ferry_length_meters, num_vehicles = list(map(int, sys.stdin.readline().strip().split()))\n",
    "ferry_length_centimeters = ferry_length_meters * 100\n",
    "left_queue, right_queue = list(), list()\n",
    "for _ in range(num_vehicles):\n",
    "    vehicle_length, bank_position = list(sys.stdin.readline().strip().split())\n",
    "    vehicle_length = int(vehicle_length)\n",
    "    if bank_position == \"left\":\n",
    "        left_queue.append(vehicle_length)\n",
    "    else:\n",
    "        right_queue.append(vehicle_length)\n",
    "num_trips = 0\n",
    "while len(left_queue) > 0 or len(right_queue) > 0:\n",
    "    current_load = 0\n",
    "    while len(left_queue) > 0 and current_load + left_queue[0] <= ferry_length_centimeters:\n",
    "        current_load += left_queue.pop(0)\n",
    "    num_trips += 1\n",
    "    if len(left_queue) == 0 and len(right_queue) == 0:\n",
    "        break\n",
    "    current_load = 0\n",
    "    while len(right_queue) > 0 and current_load + right_queue[0] <= ferry_length_centimeters:\n",
    "        current_load += right_queue.pop(0)\n",
    "    num_trips += 1\n",
    "    if len(left_queue) == 0 and len(right_queue) == 0:\n",
    "        break\n",
    "print(num_trips)"
   ]
  },
  {
   "cell_type": "markdown",
   "metadata": {},
   "source": [
    "![](.\\problem\\Ex2_8.png)"
   ]
  },
  {
   "cell_type": "code",
   "execution_count": null,
   "metadata": {},
   "outputs": [],
   "source": [
    "import sys\n",
    "\n",
    "num_elements = int(sys.stdin.readline().strip())\n",
    "array = [int(sys.stdin.readline().strip()) for _ in range(num_elements)]\n",
    "mismatch_count = 0\n",
    "for i in range(int(num_elements / 2)):\n",
    "    if array[i] != array[num_elements - i - 1]:\n",
    "        mismatch_count += 1\n",
    "    if mismatch_count == 2:\n",
    "        print(\"FALSE\")\n",
    "        break\n",
    "if mismatch_count < 2:\n",
    "    print(\"TRUE\")"
   ]
  },
  {
   "cell_type": "markdown",
   "metadata": {},
   "source": [
    "![](.\\problem\\Ex2_9.png)"
   ]
  },
  {
   "cell_type": "code",
   "execution_count": null,
   "metadata": {},
   "outputs": [],
   "source": [
    "import sys\n",
    "\n",
    "num_points = int(sys.stdin.readline().strip())\n",
    "points = []\n",
    "for _ in range(num_points):\n",
    "    point = list(map(int, sys.stdin.readline().strip().split()))\n",
    "    points.append(point)\n",
    "vectors = []\n",
    "for i in range(num_points - 1):\n",
    "    vector = [points[i + 1][0] - points[i][0], points[i + 1][1] - points[i][1]]\n",
    "    vectors.append(vector)\n",
    "right_turn_count = 0\n",
    "for i in range(1, num_points - 1):\n",
    "    rotated_vector = [vectors[i][1], -vectors[i][0]]\n",
    "    if vectors[i - 1][0] == -rotated_vector[0] and vectors[i - 1][1] == -rotated_vector[1]:\n",
    "        right_turn_count += 1\n",
    "print(right_turn_count)"
   ]
  },
  {
   "cell_type": "markdown",
   "metadata": {},
   "source": [
    "![](.\\problem\\Ex2_10.png)"
   ]
  },
  {
   "cell_type": "code",
   "execution_count": null,
   "metadata": {},
   "outputs": [],
   "source": [
    "import sys\n",
    "\n",
    "num_hits = int(sys.stdin.readline().strip())\n",
    "hit_times = list(map(float, sys.stdin.readline().strip().split()))\n",
    "base_damage = int(sys.stdin.readline().strip())\n",
    "additional_damage = int(sys.stdin.readline().strip())\n",
    "spike_duration = float(sys.stdin.readline().strip())\n",
    "current_spikes = 0\n",
    "total_damage = 0\n",
    "spike_end_times = [time + spike_duration for time in hit_times]\n",
    "spike_index = 0\n",
    "for hit_time in hit_times:\n",
    "    while spike_index < num_hits and spike_end_times[spike_index] < hit_time:\n",
    "        current_spikes -= 1\n",
    "        spike_index += 1\n",
    "    total_damage += base_damage\n",
    "    total_damage += additional_damage * current_spikes\n",
    "    current_spikes += 1\n",
    "print(total_damage)"
   ]
  }
 ],
 "metadata": {
  "kernelspec": {
   "display_name": "Python 3",
   "language": "python",
   "name": "python3"
  },
  "language_info": {
   "name": "python",
   "version": "3.11.9"
  }
 },
 "nbformat": 4,
 "nbformat_minor": 2
}
