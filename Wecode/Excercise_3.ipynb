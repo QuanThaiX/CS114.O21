{
 "cells": [
  {
   "cell_type": "markdown",
   "metadata": {},
   "source": [
    "![](.\\problem\\Ex3_1.png)"
   ]
  },
  {
   "cell_type": "code",
   "execution_count": null,
   "metadata": {},
   "outputs": [],
   "source": [
    "import sys\n",
    "\n",
    "num_elements = int(sys.stdin.readline().strip())\n",
    "if 100000 < num_elements < 975000:\n",
    "    array_str = sys.stdin.readline().strip()\n",
    "    num_queries = int(sys.stdin.readline().strip())\n",
    "    queries = list(sys.stdin.readline().strip().split())\n",
    "    index = 0\n",
    "    current_index = 0\n",
    "    current_string = \"\"\n",
    "    element_to_index = {}\n",
    "    temp_string = \"\"\n",
    "    while True:\n",
    "        next_index = index + 456789\n",
    "        temp_string = current_string + array_str[index:next_index]\n",
    "        elements = temp_string.split()\n",
    "        index = next_index\n",
    "        for element in elements[:-1]:\n",
    "            element_to_index[element] = current_index\n",
    "            current_index += 1\n",
    "        current_string = elements[-1]\n",
    "        if temp_string[-1] == \" \":\n",
    "            current_string += \" \"\n",
    "        temp_string = \"\"\n",
    "        if next_index > len(array_str):\n",
    "            break\n",
    "    for query in queries:\n",
    "        print(element_to_index.get(query, -1))\n",
    "else:\n",
    "    element_to_index = {}\n",
    "    array_elements = sys.stdin.readline().strip().split()\n",
    "    for i in range(len(array_elements) - 1, -1, -1):\n",
    "        if array_elements[i] not in element_to_index:\n",
    "            element_to_index[array_elements[i]] = i\n",
    "    num_queries = int(sys.stdin.readline().strip())\n",
    "    queries = list(sys.stdin.readline().strip().split())\n",
    "    for query in queries:\n",
    "        if query in element_to_index:\n",
    "            print(element_to_index[query])\n",
    "        else:\n",
    "            print(-1)"
   ]
  },
  {
   "cell_type": "markdown",
   "metadata": {},
   "source": [
    "![](.\\problem\\Ex3_2.png)"
   ]
  },
  {
   "cell_type": "code",
   "execution_count": null,
   "metadata": {},
   "outputs": [],
   "source": [
    "import sys\n",
    "dn = {}\n",
    "n = int(sys.stdin.readline().strip())\n",
    "sn = sys.stdin.readline().strip().split()\n",
    "for i in range(len(sn)):\n",
    "    if sn[i] not in dn:\n",
    "        dn[sn[i]] = i\n",
    "m = int(sys.stdin.readline().strip())\n",
    "lm = list(sys.stdin.readline().strip().split())\n",
    "for x in lm:\n",
    "    if x in dn:\n",
    "        print(dn[x])\n",
    "    else:\n",
    "        print(-1)"
   ]
  },
  {
   "cell_type": "markdown",
   "metadata": {},
   "source": [
    "![](.\\problem\\Ex3_3.png)"
   ]
  },
  {
   "cell_type": "code",
   "execution_count": null,
   "metadata": {},
   "outputs": [],
   "source": [
    "import sys\n",
    "m, n = list(map(int,sys.stdin.readline().strip().split()))\n",
    "lm = set(map(int,sys.stdin.readline().strip().split()))\n",
    "ln = set(map(int,sys.stdin.readline().strip().split()))\n",
    "print(len(lm.intersection(ln)))"
   ]
  },
  {
   "cell_type": "markdown",
   "metadata": {},
   "source": [
    "![](.\\problem\\Ex3_4.png)"
   ]
  },
  {
   "cell_type": "code",
   "execution_count": null,
   "metadata": {},
   "outputs": [],
   "source": [
    "import sys\n",
    "\n",
    "n = int(sys.stdin.readline())\n",
    "ln = list(map(int, sys.stdin.readline().split()))\n",
    "k, x = list(map(int, sys.stdin.readline().split()))\n",
    "left = 0\n",
    "right = len(ln) - k\n",
    "while left < right:\n",
    "    mid = (left + right) // 2\n",
    "    if x - ln[mid] > ln[mid + k] - x:\n",
    "        left = mid + 1\n",
    "    else:\n",
    "        right = mid\n",
    "for x in ln[left:left+k]:\n",
    "    print(x, end=\" \")"
   ]
  },
  {
   "cell_type": "markdown",
   "metadata": {},
   "source": [
    "![](.\\problem\\Ex3_5.png)"
   ]
  },
  {
   "cell_type": "code",
   "execution_count": null,
   "metadata": {},
   "outputs": [],
   "source": [
    "import sys\n",
    "\n",
    "n = int(sys.stdin.readline().strip())\n",
    "ln = list(map(int, sys.stdin.readline().strip().split()))\n",
    "while True:\n",
    "    inp = sys.stdin.readline().strip()\n",
    "    if not inp:\n",
    "        break\n",
    "    k, x = list(map(int, inp.split()))\n",
    "    if 2*k < len(ln):\n",
    "        if x > ln[len(ln) - k]:\n",
    "            left = len(ln) - 2*k\n",
    "            right = len(ln) - k\n",
    "            while left < right:\n",
    "                mid = (left + right) // 2\n",
    "                if x - ln[mid] <= ln[mid + k] - x:\n",
    "                    right = mid\n",
    "                else:\n",
    "                    left = mid + 1\n",
    "            print(ln[left], end=\" \")\n",
    "            print(ln[left + k - 1])\n",
    "        elif x < ln[2*k]:\n",
    "            left = 0\n",
    "            right = 2*k\n",
    "            while left < right:\n",
    "                mid = (left + right) // 2\n",
    "                if x - ln[mid] <= ln[mid + k] - x:\n",
    "                    right = mid\n",
    "                else:\n",
    "                    left = mid + 1\n",
    "            print(ln[left], end=\" \")\n",
    "            print(ln[left + k - 1])\n",
    "        else:\n",
    "            left = 0\n",
    "            right = len(ln) - k\n",
    "            while left < right:\n",
    "                mid = (left + right) // 2\n",
    "                if x - ln[mid] <= ln[mid + k] - x:\n",
    "                    right = mid\n",
    "                else:\n",
    "                    left = mid + 1\n",
    "            print(ln[left], end=\" \")\n",
    "            print(ln[left + k - 1])\n",
    "    else:\n",
    "        left = 0\n",
    "        right = len(ln) - k\n",
    "        while left < right:\n",
    "            mid = (left + right) // 2\n",
    "            if x - ln[mid] <= ln[mid + k] - x:\n",
    "                right = mid\n",
    "            else:\n",
    "                left = mid + 1\n",
    "        print(ln[left], end=\" \")\n",
    "        print(ln[left + k - 1])"
   ]
  }
 ],
 "metadata": {
  "kernelspec": {
   "display_name": "Python 3",
   "language": "python",
   "name": "python3"
  },
  "language_info": {
   "name": "python",
   "version": "3.11.9"
  }
 },
 "nbformat": 4,
 "nbformat_minor": 2
}
